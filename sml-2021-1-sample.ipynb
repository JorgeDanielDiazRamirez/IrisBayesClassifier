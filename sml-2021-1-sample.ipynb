{
 "cells": [
  {
   "cell_type": "code",
   "execution_count": 16,
   "metadata": {},
   "outputs": [],
   "source": [
    "import random\n",
    "from scipy import stats\n",
    "import numpy as np\n",
    "import pandas as pd\n",
    "import matplotlib.pyplot as plt\n",
    "from tqdm import tqdm_notebook as tqdm"
   ]
  },
  {
   "cell_type": "code",
   "execution_count": 5,
   "metadata": {},
   "outputs": [],
   "source": [
    "## 16:40\n",
    "\n",
    "class NearestNeighbors:\n",
    "    \n",
    "    def __init__(self, k=5):\n",
    "        self.k = k\n",
    "    \n",
    "    def train(self, X, y):\n",
    "        self.X = X\n",
    "        self.y = y\n",
    "        \n",
    "        \n",
    "    def predict(self, X):\n",
    "        if len(X.shape) == 1:\n",
    "            X = [X]\n",
    "        y = []\n",
    "        for xb in X:\n",
    "            distances = [np.linalg.norm(xb - xa) for xa in self.X]\n",
    "            nearest_neighbors = np.argsort(distances)[:self.k]\n",
    "            labels = [self.y[nb] for nb in nearest_neighbors]\n",
    "            y.append(stats.mode(labels)[0][0])\n",
    "        return y\n",
    "            \n",
    "# 16:53"
   ]
  },
  {
   "cell_type": "code",
   "execution_count": 11,
   "metadata": {},
   "outputs": [
    {
     "data": {
      "text/plain": [
       "['virginica', 'setosa']"
      ]
     },
     "execution_count": 11,
     "metadata": {},
     "output_type": "execute_result"
    }
   ],
   "source": [
    "dfIris = pd.read_csv(\"iris.csv\")\n",
    "X = dfIris.values[:,:4].astype(float)\n",
    "y = dfIris.values[:,4]\n",
    "X_red = X[:,[0,1]]\n",
    "knn = NearestNeighbors()\n",
    "knn.train(X_red, y)\n",
    "knn.predict(X_red[[100, 5],:])"
   ]
  },
  {
   "cell_type": "code",
   "execution_count": 18,
   "metadata": {},
   "outputs": [],
   "source": [
    "def cross_validate(learner, X, y, train_size, repeats):\n",
    "    scores_in = []\n",
    "    scores = []\n",
    "    n = len(X)\n",
    "    num_examples = int(train_size * n)\n",
    "    \n",
    "    for r in range(repeats):\n",
    "        indices_train = random.sample(range(n), num_examples)\n",
    "        learner.train(X[indices_train,:], y[indices_train])\n",
    "        indices_test = [i for i in range(n) if not i in indices_train]\n",
    "        \n",
    "        # compute in-sample error\n",
    "        y_hat = learner.predict(X[indices_train])\n",
    "        mistakes = 0\n",
    "        for i, pred in enumerate(y_hat):\n",
    "            act = y[indices_train[i]]\n",
    "            if pred != act:\n",
    "                mistakes += 1\n",
    "        scores_in.append(mistakes / len(indices_train))\n",
    "        \n",
    "        # compute validation error\n",
    "        y_hat = learner.predict(X[indices_test])\n",
    "        mistakes = 0\n",
    "        for i, pred in enumerate(y_hat):\n",
    "            act = y[indices_test[i]]\n",
    "            if pred != act:\n",
    "                mistakes += 1\n",
    "        scores.append(mistakes / len(indices_test))\n",
    "        \n",
    "    return np.mean(scores_in), np.mean(scores)\n",
    "# 17:26"
   ]
  },
  {
   "cell_type": "code",
   "execution_count": 20,
   "metadata": {},
   "outputs": [
    {
     "name": "stderr",
     "output_type": "stream",
     "text": [
      "/home/felix/anaconda3/lib/python3.7/site-packages/ipykernel_launcher.py:4: TqdmDeprecationWarning: This function will be removed in tqdm==5.0.0\n",
      "Please use `tqdm.notebook.tqdm` instead of `tqdm.tqdm_notebook`\n",
      "  after removing the cwd from sys.path.\n"
     ]
    },
    {
     "data": {
      "application/vnd.jupyter.widget-view+json": {
       "model_id": "cd0b956db43e448ab1f7770377b6483c",
       "version_major": 2,
       "version_minor": 0
      },
      "text/plain": [
       "HBox(children=(FloatProgress(value=0.0, max=19.0), HTML(value='')))"
      ]
     },
     "metadata": {},
     "output_type": "display_data"
    },
    {
     "name": "stdout",
     "output_type": "stream",
     "text": [
      "\n"
     ]
    }
   ],
   "source": [
    "scores_in = []\n",
    "scores_val = []\n",
    "anchors = list(range(10, 101, 5))\n",
    "for k in tqdm(anchors):\n",
    "    e_in, e_out = cross_validate(knn, X, y, k / len(X), 100)\n",
    "    scores_in.append(e_in)\n",
    "    scores_val.append(e_out)"
   ]
  },
  {
   "cell_type": "code",
   "execution_count": 40,
   "metadata": {},
   "outputs": [
    {
     "data": {
      "image/png": "[encoded data removed]",
      "text/plain": [
       "<Figure size 432x288 with 1 Axes>"
      ]
     },
     "metadata": {
      "needs_background": "light"
     },
     "output_type": "display_data"
    }
   ],
   "source": [
    "fig, ax = plt.subplots()\n",
    "ax.plot(anchors, scores_in, label=\"in-sample-error\")\n",
    "ax.plot(anchors, scores_val, label=\"out-of-sample-error\")\n",
    "ax.legend()\n",
    "plt.show()"
   ]
  },
  {
   "cell_type": "code",
   "execution_count": 38,
   "metadata": {},
   "outputs": [
    {
     "name": "stdout",
     "output_type": "stream",
     "text": [
      "[[0. 0. 0. ... 0. 0. 0.]\n",
      " [0. 0. 0. ... 0. 0. 0.]\n",
      " [0. 0. 0. ... 0. 0. 0.]\n",
      " ...\n",
      " [2. 2. 2. ... 2. 2. 2.]\n",
      " [2. 2. 2. ... 2. 2. 2.]\n",
      " [2. 2. 2. ... 2. 2. 2.]]\n"
     ]
    }
   ],
   "source": [
    "\n",
    "x1_min = min(X[:,0])\n",
    "x1_max = max(X[:,0])\n",
    "x2_min = min(X[:,1])\n",
    "x2_max = max(X[:,1])\n",
    "\n",
    "U1 = np.linspace(4, 8, 100)\n",
    "U2 = np.linspace(2, 5, 100)\n",
    "\n",
    "X_red = X[:,[0,1]]\n",
    "\n",
    "knn = NearestNeighbors()\n",
    "knn.train(X_red, y)\n",
    "\n",
    "classes = list(np.unique(y))\n",
    "Z = np.zeros((100, 100))\n",
    "for i, u in enumerate(U1):\n",
    "    for j, v in enumerate(U2):\n",
    "        x = [u, v]\n",
    "        y_hat = knn.predict(np.array([x]))[0]\n",
    "        y_hat_numeric = classes.index(y_hat)\n",
    "        Z[i,j] = y_hat_numeric\n",
    "print(Z)"
   ]
  },
  {
   "cell_type": "code",
   "execution_count": 41,
   "metadata": {},
   "outputs": [
    {
     "data": {
      "text/plain": [
       "['setosa', 'versicolor', 'virginica']"
      ]
     },
     "execution_count": 41,
     "metadata": {},
     "output_type": "execute_result"
    }
   ],
   "source": [
    "classes"
   ]
  },
  {
   "cell_type": "code",
   "execution_count": 37,
   "metadata": {},
   "outputs": [
    {
     "data": {
      "text/plain": [
       "<matplotlib.image.AxesImage at 0x7f1ad7f3a850>"
      ]
     },
     "execution_count": 37,
     "metadata": {},
     "output_type": "execute_result"
    },
    {
     "data": {
      "image/png": "[encoded data removed]",
      "text/plain": [
       "<Figure size 864x360 with 2 Axes>"
      ]
     },
     "metadata": {
      "needs_background": "light"
     },
     "output_type": "display_data"
    }
   ],
   "source": [
    "fig, ax = plt.subplots(1, 2, figsize=(12, 5))\n",
    "for c in classes:\n",
    "    lines = y == c\n",
    "    ax[0].scatter(X[lines,0], X[lines,1])\n",
    "ax[1].imshow(Z.T, origin='lower')\n",
    "#ax[1].set_xticklabels(np.round(U1,2))"
   ]
  }
 ],
 "metadata": {
  "kernelspec": {
   "display_name": "Python 3",
   "language": "python",
   "name": "python3"
  },
  "language_info": {
   "codemirror_mode": {
    "name": "ipython",
    "version": 3
   },
   "file_extension": ".py",
   "mimetype": "text/x-python",
   "name": "python",
   "nbconvert_exporter": "python",
   "pygments_lexer": "ipython3",
   "version": "3.7.7"
  }
 },
 "nbformat": 4,
 "nbformat_minor": 4
}
